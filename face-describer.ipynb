{
 "cells": [
  {
   "cell_type": "code",
   "execution_count": 1,
   "metadata": {
    "collapsed": true
   },
   "outputs": [
    {
     "name": "stderr",
     "output_type": "stream",
     "text": [
      "2023-04-11 10:54:30.465974: I tensorflow/tsl/cuda/cudart_stub.cc:28] Could not find cuda drivers on your machine, GPU will not be used.\n",
      "2023-04-11 10:54:30.619793: I tensorflow/tsl/cuda/cudart_stub.cc:28] Could not find cuda drivers on your machine, GPU will not be used.\n",
      "2023-04-11 10:54:30.621105: I tensorflow/core/platform/cpu_feature_guard.cc:182] This TensorFlow binary is optimized to use available CPU instructions in performance-critical operations.\n",
      "To enable the following instructions: AVX2 FMA, in other operations, rebuild TensorFlow with the appropriate compiler flags.\n",
      "2023-04-11 10:54:31.486752: W tensorflow/compiler/tf2tensorrt/utils/py_utils.cc:38] TF-TRT Warning: Could not find TensorRT\n"
     ]
    }
   ],
   "source": [
    "import numpy as np\n",
    "import pandas as pd\n",
    "import tensorflow as tf\n",
    "import tensorflow_hub as hub\n",
    "import matplotlib.pylab as plt"
   ]
  },
  {
   "cell_type": "code",
   "execution_count": 7,
   "outputs": [],
   "source": [
    "attribute_path = \"/home/ali/projects/photo_collection/celebface-archive/list_attr_celeba.csv\"\n",
    "partition_path = \"/home/ali/projects/photo_collection/celebface-archive/list_eval_partition.csv\"\n",
    "images_path = \"/home/ali/projects/photo_collection/celebface-archive/img_align_celeba/img_align_celeba/\"\n",
    "batch_size = 128\n",
    "Nodel_handle = \"https://tfhub.dev/google/imagenet/efficientnet_v2_imagenet21k_ft1k_b0/feature_vector/2\"\n",
    "image_size = (224, 224)"
   ],
   "metadata": {
    "collapsed": false
   }
  },
  {
   "cell_type": "code",
   "execution_count": 8,
   "outputs": [],
   "source": [
    "df_attributes = pd.read_csv(attribute_path)"
   ],
   "metadata": {
    "collapsed": false
   }
  },
  {
   "cell_type": "code",
   "execution_count": 9,
   "outputs": [
    {
     "data": {
      "text/plain": "Index(['image_id', '5_o_Clock_Shadow', 'Arched_Eyebrows', 'Attractive',\n       'Bags_Under_Eyes', 'Bald', 'Bangs', 'Big_Lips', 'Big_Nose',\n       'Black_Hair', 'Blond_Hair', 'Blurry', 'Brown_Hair', 'Bushy_Eyebrows',\n       'Chubby', 'Double_Chin', 'Eyeglasses', 'Goatee', 'Gray_Hair',\n       'Heavy_Makeup', 'High_Cheekbones', 'Male', 'Mouth_Slightly_Open',\n       'Mustache', 'Narrow_Eyes', 'No_Beard', 'Oval_Face', 'Pale_Skin',\n       'Pointy_Nose', 'Receding_Hairline', 'Rosy_Cheeks', 'Sideburns',\n       'Smiling', 'Straight_Hair', 'Wavy_Hair', 'Wearing_Earrings',\n       'Wearing_Hat', 'Wearing_Lipstick', 'Wearing_Necklace',\n       'Wearing_Necktie', 'Young'],\n      dtype='object')"
     },
     "execution_count": 9,
     "metadata": {},
     "output_type": "execute_result"
    }
   ],
   "source": [
    "df_attributes.columns"
   ],
   "metadata": {
    "collapsed": false
   }
  },
  {
   "cell_type": "code",
   "execution_count": 57,
   "outputs": [],
   "source": [
    "selected_attributes = [\"5_o_Clock_Shadow\", \"Bald\", \"Bangs\", \"Black_Hair\", \"Blond_Hair\", \"Brown_Hair\",\n",
    "                       \"Eyeglasses\", \"Goatee\", \"Gray_Hair\", \"Male\", \"Mustache\", \"No_Beard\", \"Sideburns\", \"Smiling\", \"Straight_Hair\", \"Wavy_Hair\",\n",
    "                       \"Wearing_Earrings\", \"Wearing_Hat\", \"Wearing_Lipstick\", \"Wearing_Necklace\", \"Wearing_Necktie\"]"
   ],
   "metadata": {
    "collapsed": false
   }
  },
  {
   "cell_type": "code",
   "execution_count": 60,
   "outputs": [],
   "source": [
    "column_list = [\"image_id\"]\n",
    "column_list.extend(selected_attributes)"
   ],
   "metadata": {
    "collapsed": false
   }
  },
  {
   "cell_type": "code",
   "execution_count": 62,
   "outputs": [],
   "source": [
    "df_attributes_selected = df_attributes[df_attributes.columns.intersection(column_list)].copy()"
   ],
   "metadata": {
    "collapsed": false
   }
  },
  {
   "cell_type": "code",
   "execution_count": 63,
   "outputs": [
    {
     "data": {
      "text/plain": "     image_id  5_o_Clock_Shadow  Bald  Bangs  Black_Hair  Blond_Hair   \n0  000001.jpg                -1    -1     -1          -1          -1  \\\n1  000002.jpg                -1    -1     -1          -1          -1   \n2  000003.jpg                -1    -1     -1          -1          -1   \n3  000004.jpg                -1    -1     -1          -1          -1   \n4  000005.jpg                -1    -1     -1          -1          -1   \n\n   Brown_Hair  Eyeglasses  Goatee  Gray_Hair  ...  No_Beard  Sideburns   \n0           1          -1      -1         -1  ...         1         -1  \\\n1           1          -1      -1         -1  ...         1         -1   \n2          -1          -1      -1         -1  ...         1         -1   \n3          -1          -1      -1         -1  ...         1         -1   \n4          -1          -1      -1         -1  ...         1         -1   \n\n   Smiling  Straight_Hair  Wavy_Hair  Wearing_Earrings  Wearing_Hat   \n0        1              1         -1                 1           -1  \\\n1        1             -1         -1                -1           -1   \n2       -1             -1          1                -1           -1   \n3       -1              1         -1                 1           -1   \n4       -1             -1         -1                -1           -1   \n\n   Wearing_Lipstick  Wearing_Necklace  Wearing_Necktie  \n0                 1                -1               -1  \n1                -1                -1               -1  \n2                -1                -1               -1  \n3                 1                 1               -1  \n4                 1                -1               -1  \n\n[5 rows x 22 columns]",
      "text/html": "<div>\n<style scoped>\n    .dataframe tbody tr th:only-of-type {\n        vertical-align: middle;\n    }\n\n    .dataframe tbody tr th {\n        vertical-align: top;\n    }\n\n    .dataframe thead th {\n        text-align: right;\n    }\n</style>\n<table border=\"1\" class=\"dataframe\">\n  <thead>\n    <tr style=\"text-align: right;\">\n      <th></th>\n      <th>image_id</th>\n      <th>5_o_Clock_Shadow</th>\n      <th>Bald</th>\n      <th>Bangs</th>\n      <th>Black_Hair</th>\n      <th>Blond_Hair</th>\n      <th>Brown_Hair</th>\n      <th>Eyeglasses</th>\n      <th>Goatee</th>\n      <th>Gray_Hair</th>\n      <th>...</th>\n      <th>No_Beard</th>\n      <th>Sideburns</th>\n      <th>Smiling</th>\n      <th>Straight_Hair</th>\n      <th>Wavy_Hair</th>\n      <th>Wearing_Earrings</th>\n      <th>Wearing_Hat</th>\n      <th>Wearing_Lipstick</th>\n      <th>Wearing_Necklace</th>\n      <th>Wearing_Necktie</th>\n    </tr>\n  </thead>\n  <tbody>\n    <tr>\n      <th>0</th>\n      <td>000001.jpg</td>\n      <td>-1</td>\n      <td>-1</td>\n      <td>-1</td>\n      <td>-1</td>\n      <td>-1</td>\n      <td>1</td>\n      <td>-1</td>\n      <td>-1</td>\n      <td>-1</td>\n      <td>...</td>\n      <td>1</td>\n      <td>-1</td>\n      <td>1</td>\n      <td>1</td>\n      <td>-1</td>\n      <td>1</td>\n      <td>-1</td>\n      <td>1</td>\n      <td>-1</td>\n      <td>-1</td>\n    </tr>\n    <tr>\n      <th>1</th>\n      <td>000002.jpg</td>\n      <td>-1</td>\n      <td>-1</td>\n      <td>-1</td>\n      <td>-1</td>\n      <td>-1</td>\n      <td>1</td>\n      <td>-1</td>\n      <td>-1</td>\n      <td>-1</td>\n      <td>...</td>\n      <td>1</td>\n      <td>-1</td>\n      <td>1</td>\n      <td>-1</td>\n      <td>-1</td>\n      <td>-1</td>\n      <td>-1</td>\n      <td>-1</td>\n      <td>-1</td>\n      <td>-1</td>\n    </tr>\n    <tr>\n      <th>2</th>\n      <td>000003.jpg</td>\n      <td>-1</td>\n      <td>-1</td>\n      <td>-1</td>\n      <td>-1</td>\n      <td>-1</td>\n      <td>-1</td>\n      <td>-1</td>\n      <td>-1</td>\n      <td>-1</td>\n      <td>...</td>\n      <td>1</td>\n      <td>-1</td>\n      <td>-1</td>\n      <td>-1</td>\n      <td>1</td>\n      <td>-1</td>\n      <td>-1</td>\n      <td>-1</td>\n      <td>-1</td>\n      <td>-1</td>\n    </tr>\n    <tr>\n      <th>3</th>\n      <td>000004.jpg</td>\n      <td>-1</td>\n      <td>-1</td>\n      <td>-1</td>\n      <td>-1</td>\n      <td>-1</td>\n      <td>-1</td>\n      <td>-1</td>\n      <td>-1</td>\n      <td>-1</td>\n      <td>...</td>\n      <td>1</td>\n      <td>-1</td>\n      <td>-1</td>\n      <td>1</td>\n      <td>-1</td>\n      <td>1</td>\n      <td>-1</td>\n      <td>1</td>\n      <td>1</td>\n      <td>-1</td>\n    </tr>\n    <tr>\n      <th>4</th>\n      <td>000005.jpg</td>\n      <td>-1</td>\n      <td>-1</td>\n      <td>-1</td>\n      <td>-1</td>\n      <td>-1</td>\n      <td>-1</td>\n      <td>-1</td>\n      <td>-1</td>\n      <td>-1</td>\n      <td>...</td>\n      <td>1</td>\n      <td>-1</td>\n      <td>-1</td>\n      <td>-1</td>\n      <td>-1</td>\n      <td>-1</td>\n      <td>-1</td>\n      <td>1</td>\n      <td>-1</td>\n      <td>-1</td>\n    </tr>\n  </tbody>\n</table>\n<p>5 rows × 22 columns</p>\n</div>"
     },
     "execution_count": 63,
     "metadata": {},
     "output_type": "execute_result"
    }
   ],
   "source": [
    "df_attributes_selected.head()"
   ],
   "metadata": {
    "collapsed": false
   }
  },
  {
   "cell_type": "code",
   "execution_count": 69,
   "outputs": [],
   "source": [
    "df_partition = pd.read_csv(partition_path)"
   ],
   "metadata": {
    "collapsed": false
   }
  },
  {
   "cell_type": "code",
   "execution_count": 70,
   "outputs": [
    {
     "data": {
      "text/plain": "     image_id  5_o_Clock_Shadow  Bald  Bangs  Black_Hair  Blond_Hair   \n0  000001.jpg                 0     0      0           0           0  \\\n1  000002.jpg                 0     0      0           0           0   \n2  000003.jpg                 0     0      0           0           0   \n3  000004.jpg                 0     0      0           0           0   \n4  000005.jpg                 0     0      0           0           0   \n\n   Brown_Hair  Eyeglasses  Goatee  Gray_Hair  ...  Sideburns  Smiling   \n0           1           0       0          0  ...          0        1  \\\n1           1           0       0          0  ...          0        1   \n2           0           0       0          0  ...          0        0   \n3           0           0       0          0  ...          0        0   \n4           0           0       0          0  ...          0        0   \n\n   Straight_Hair  Wavy_Hair  Wearing_Earrings  Wearing_Hat  Wearing_Lipstick   \n0              1          0                 1            0                 1  \\\n1              0          0                 0            0                 0   \n2              0          1                 0            0                 0   \n3              1          0                 1            0                 1   \n4              0          0                 0            0                 1   \n\n   Wearing_Necklace  Wearing_Necktie  partition  \n0                 0                0          0  \n1                 0                0          0  \n2                 0                0          0  \n3                 1                0          0  \n4                 0                0          0  \n\n[5 rows x 23 columns]",
      "text/html": "<div>\n<style scoped>\n    .dataframe tbody tr th:only-of-type {\n        vertical-align: middle;\n    }\n\n    .dataframe tbody tr th {\n        vertical-align: top;\n    }\n\n    .dataframe thead th {\n        text-align: right;\n    }\n</style>\n<table border=\"1\" class=\"dataframe\">\n  <thead>\n    <tr style=\"text-align: right;\">\n      <th></th>\n      <th>image_id</th>\n      <th>5_o_Clock_Shadow</th>\n      <th>Bald</th>\n      <th>Bangs</th>\n      <th>Black_Hair</th>\n      <th>Blond_Hair</th>\n      <th>Brown_Hair</th>\n      <th>Eyeglasses</th>\n      <th>Goatee</th>\n      <th>Gray_Hair</th>\n      <th>...</th>\n      <th>Sideburns</th>\n      <th>Smiling</th>\n      <th>Straight_Hair</th>\n      <th>Wavy_Hair</th>\n      <th>Wearing_Earrings</th>\n      <th>Wearing_Hat</th>\n      <th>Wearing_Lipstick</th>\n      <th>Wearing_Necklace</th>\n      <th>Wearing_Necktie</th>\n      <th>partition</th>\n    </tr>\n  </thead>\n  <tbody>\n    <tr>\n      <th>0</th>\n      <td>000001.jpg</td>\n      <td>0</td>\n      <td>0</td>\n      <td>0</td>\n      <td>0</td>\n      <td>0</td>\n      <td>1</td>\n      <td>0</td>\n      <td>0</td>\n      <td>0</td>\n      <td>...</td>\n      <td>0</td>\n      <td>1</td>\n      <td>1</td>\n      <td>0</td>\n      <td>1</td>\n      <td>0</td>\n      <td>1</td>\n      <td>0</td>\n      <td>0</td>\n      <td>0</td>\n    </tr>\n    <tr>\n      <th>1</th>\n      <td>000002.jpg</td>\n      <td>0</td>\n      <td>0</td>\n      <td>0</td>\n      <td>0</td>\n      <td>0</td>\n      <td>1</td>\n      <td>0</td>\n      <td>0</td>\n      <td>0</td>\n      <td>...</td>\n      <td>0</td>\n      <td>1</td>\n      <td>0</td>\n      <td>0</td>\n      <td>0</td>\n      <td>0</td>\n      <td>0</td>\n      <td>0</td>\n      <td>0</td>\n      <td>0</td>\n    </tr>\n    <tr>\n      <th>2</th>\n      <td>000003.jpg</td>\n      <td>0</td>\n      <td>0</td>\n      <td>0</td>\n      <td>0</td>\n      <td>0</td>\n      <td>0</td>\n      <td>0</td>\n      <td>0</td>\n      <td>0</td>\n      <td>...</td>\n      <td>0</td>\n      <td>0</td>\n      <td>0</td>\n      <td>1</td>\n      <td>0</td>\n      <td>0</td>\n      <td>0</td>\n      <td>0</td>\n      <td>0</td>\n      <td>0</td>\n    </tr>\n    <tr>\n      <th>3</th>\n      <td>000004.jpg</td>\n      <td>0</td>\n      <td>0</td>\n      <td>0</td>\n      <td>0</td>\n      <td>0</td>\n      <td>0</td>\n      <td>0</td>\n      <td>0</td>\n      <td>0</td>\n      <td>...</td>\n      <td>0</td>\n      <td>0</td>\n      <td>1</td>\n      <td>0</td>\n      <td>1</td>\n      <td>0</td>\n      <td>1</td>\n      <td>1</td>\n      <td>0</td>\n      <td>0</td>\n    </tr>\n    <tr>\n      <th>4</th>\n      <td>000005.jpg</td>\n      <td>0</td>\n      <td>0</td>\n      <td>0</td>\n      <td>0</td>\n      <td>0</td>\n      <td>0</td>\n      <td>0</td>\n      <td>0</td>\n      <td>0</td>\n      <td>...</td>\n      <td>0</td>\n      <td>0</td>\n      <td>0</td>\n      <td>0</td>\n      <td>0</td>\n      <td>0</td>\n      <td>1</td>\n      <td>0</td>\n      <td>0</td>\n      <td>0</td>\n    </tr>\n  </tbody>\n</table>\n<p>5 rows × 23 columns</p>\n</div>"
     },
     "execution_count": 70,
     "metadata": {},
     "output_type": "execute_result"
    }
   ],
   "source": [
    "df = pd.merge(df_attributes_selected, df_partition, on=\"image_id\")\n",
    "df = df.replace(-1,0)\n",
    "df.head()"
   ],
   "metadata": {
    "collapsed": false
   }
  },
  {
   "cell_type": "code",
   "execution_count": 112,
   "outputs": [],
   "source": [
    "def preprocess_image(image):\n",
    "    image = tf.image.decode_jpeg(image, channels=3)\n",
    "    image = tf.image.resize(image, image_size)\n",
    "    return image"
   ],
   "metadata": {
    "collapsed": false
   }
  },
  {
   "cell_type": "code",
   "execution_count": 421,
   "outputs": [],
   "source": [
    "#TODO is there a better way to do this?\n",
    "\n",
    "def load_and_preprocess_image(path, *args):\n",
    "    image = tf.io.read_file(path)\n",
    "    return preprocess_image(image), *args"
   ],
   "metadata": {
    "collapsed": false
   }
  },
  {
   "cell_type": "code",
   "execution_count": null,
   "outputs": [],
   "source": [
    "# def build_dataset_from_df(input_df, attr_list):\n",
    "#     a_list = [images_path + image_id for image_id in input_df[\"image_id\"]]\n",
    "#     a_list.append([input_df[attr] for attr in attr_list])\n",
    "#     a_tuple = tuple(a_list)\n",
    "#     dataset = tf.data.Dataset.from_tensor_slices(a_tuple)\n",
    "#     # dataset = dataset.map()\n",
    "#     # dataset = dataset.shuffle(buffer_size=1000)\n",
    "#     # dataset = dataset.repeat()\n",
    "#     # dataset = dataset.batch(batch_size=)\n",
    "#     # dataset = dataset.prefetch(buffer_size=tf.data.AUTOTUNE)\n",
    "#     return dataset"
   ],
   "metadata": {
    "collapsed": false
   }
  },
  {
   "cell_type": "code",
   "execution_count": 422,
   "outputs": [],
   "source": [
    "def build_dataset_from_df(input_df, attr_list):\n",
    "    b_list = [input_df[attr] for attr in attr_list]\n",
    "    b_list.insert(0, [images_path + image_id for image_id in input_df[\"image_id\"]])\n",
    "    a_tuple = tuple(b_list)\n",
    "    dataset = tf.data.Dataset.from_tensor_slices(a_tuple)\n",
    "    dataset = dataset.map(load_and_preprocess_image)\n",
    "\n",
    "    return dataset"
   ],
   "metadata": {
    "collapsed": false
   }
  },
  {
   "cell_type": "code",
   "execution_count": 423,
   "outputs": [],
   "source": [
    "ds = build_dataset_from_df(df, selected_attributes)"
   ],
   "metadata": {
    "collapsed": false
   }
  },
  {
   "cell_type": "code",
   "execution_count": 424,
   "outputs": [
    {
     "name": "stderr",
     "output_type": "stream",
     "text": [
      "2023-04-11 17:48:06.469524: I tensorflow/core/common_runtime/executor.cc:1197] [/device:CPU:0] (DEBUG INFO) Executor start aborting (this does not indicate an error and you can ignore this message): INVALID_ARGUMENT: You must feed a value for placeholder tensor 'Placeholder/_0' with dtype string and shape [202599]\n",
      "\t [[{{node Placeholder/_0}}]]\n"
     ]
    },
    {
     "data": {
      "text/plain": "[(array([[[251.      , 232.      , 192.      ],\n          [251.      , 232.      , 192.      ],\n          [251.      , 232.      , 192.      ],\n          ...,\n          [249.62057 , 232.13397 , 218.08038 ],\n          [253.69196 , 237.30804 , 220.38391 ],\n          [253.      , 238.      , 219.      ]],\n  \n         [[251.      , 232.      , 192.      ],\n          [251.      , 232.      , 192.      ],\n          [251.      , 232.      , 192.      ],\n          ...,\n          [250.55467 , 233.56085 , 219.50726 ],\n          [253.98763 , 238.26787 , 221.34373 ],\n          [253.95982 , 238.95982 , 219.95982 ]],\n  \n         [[251.      , 232.      , 192.      ],\n          [251.      , 232.      , 192.      ],\n          [251.      , 232.      , 192.      ],\n          ...,\n          [251.50182 , 234.52861 , 220.47502 ],\n          [254.      , 238.30804 , 221.38391 ],\n          [254.      , 239.      , 220.      ]],\n  \n         ...,\n  \n         [[139.19653 ,  73.19653 ,  23.330444],\n          [122.78071 ,  56.78071 ,   8.205889],\n          [130.03867 ,  63.51947 ,  16.97929 ],\n          ...,\n          [120.726395,  55.59248 ,  27.525524],\n          [121.42413 ,  56.618893,  28.531311],\n          [120.73218 ,  56.665222,  28.531311]],\n  \n         [[129.5267  ,  63.526703,  15.526703],\n          [135.86864 ,  69.86864 ,  21.868633],\n          [153.03802 ,  86.06482 ,  39.524635],\n          ...,\n          [116.57929 ,  49.54019 ,  20.540192],\n          [117.70433 ,  51.29567 ,  22.      ],\n          [117.04018 ,  51.959824,  22.      ]],\n  \n         [[166.      , 100.      ,  52.      ],\n          [191.60268 , 125.60268 ,  77.60268 ],\n          [222.9509  , 155.97768 , 109.4375  ],\n          ...,\n          [117.5134  ,  49.54019 ,  20.540192],\n          [118.      ,  51.      ,  22.      ],\n          [118.      ,  51.      ,  22.      ]]], dtype=float32),\n  0,\n  0,\n  0,\n  0,\n  0,\n  1,\n  0,\n  0,\n  0,\n  0,\n  0,\n  1,\n  0,\n  1,\n  1,\n  0,\n  1,\n  0,\n  1,\n  0,\n  0),\n (array([[[ 65.      ,  52.      ,  44.      ],\n          [ 63.61607 ,  50.61607 ,  42.61607 ],\n          [ 63.973213,  50.      ,  42.486607],\n          ...,\n          [ 78.566986,  75.566986,  68.566986],\n          [ 81.92413 ,  78.92413 ,  71.308044],\n          [ 84.      ,  81.      ,  72.      ]],\n  \n         [[ 65.      ,  52.      ,  44.      ],\n          [ 63.61607 ,  50.61607 ,  42.61607 ],\n          [ 63.973213,  50.      ,  42.486607],\n          ...,\n          [ 79.05975 ,  76.05975 ,  69.05975 ],\n          [ 82.58829 ,  79.58829 ,  71.9722  ],\n          [ 84.      ,  81.      ,  72.      ]],\n  \n         [[ 65.      ,  52.      ,  44.      ],\n          [ 63.61607 ,  50.61607 ,  42.61607 ],\n          [ 63.51919 ,  50.45402 ,  42.486607],\n          ...,\n          [ 79.08038 ,  76.08038 ,  69.08038 ],\n          [ 82.61609 ,  79.61609 ,  72.      ],\n          [ 84.      ,  81.      ,  72.      ]],\n  \n         ...,\n  \n         [[209.2052  , 212.00433 , 219.07129 ],\n          [215.38356 , 218.1827  , 225.24965 ],\n          [218.84648 , 220.70497 , 226.7987  ],\n          ...,\n          [130.32716 , 104.80625 ,  98.74509 ],\n          [138.90984 , 120.557236, 112.87419 ],\n          [142.59827 , 128.3974  , 119.330444]],\n  \n         [[226.      , 226.      , 234.      ],\n          [221.84822 , 221.84822 , 229.84822 ],\n          [217.08035 , 216.59375 , 223.62053 ],\n          ...,\n          [139.11331 , 111.20603 , 104.64737 ],\n          [139.808   , 118.58829 , 110.      ],\n          [137.04018 , 120.      , 110.      ]],\n  \n         [[226.      , 226.      , 234.      ],\n          [221.84822 , 221.84822 , 229.84822 ],\n          [217.08035 , 216.59375 , 223.62053 ],\n          ...,\n          [140.54019 , 111.64737 , 104.64737 ],\n          [140.76782 , 117.92413 , 110.      ],\n          [138.      , 120.      , 110.      ]]], dtype=float32),\n  0,\n  0,\n  0,\n  0,\n  0,\n  1,\n  0,\n  0,\n  0,\n  0,\n  0,\n  1,\n  0,\n  1,\n  0,\n  0,\n  0,\n  0,\n  0,\n  0,\n  0),\n (array([[[255.      , 255.      , 255.      ],\n          [255.      , 255.      , 255.      ],\n          [255.      , 255.      , 255.      ],\n          ...,\n          [255.      , 255.      , 255.      ],\n          [255.      , 255.      , 255.      ],\n          [255.      , 255.      , 255.      ]],\n  \n         [[255.      , 255.      , 255.      ],\n          [255.      , 255.      , 255.      ],\n          [255.      , 255.      , 255.      ],\n          ...,\n          [255.      , 255.      , 255.      ],\n          [255.      , 255.      , 255.      ],\n          [255.      , 255.      , 255.      ]],\n  \n         [[255.      , 255.      , 255.      ],\n          [255.      , 255.      , 255.      ],\n          [255.      , 255.      , 255.      ],\n          ...,\n          [255.      , 255.      , 255.      ],\n          [255.      , 255.      , 255.      ],\n          [255.      , 255.      , 255.      ]],\n  \n         ...,\n  \n         [[144.26349 , 108.330444,  84.464355],\n          [145.64742 , 109.760704,  84.464355],\n          [147.26929 , 111.85722 ,  84.950966],\n          ...,\n          [ 90.714264,  89.74106 ,  92.22766 ],\n          [ 91.20087 ,  91.20087 ,  93.20087 ],\n          [ 91.20087 ,  91.20087 ,  93.20087 ]],\n  \n         [[133.8393  ,  98.95982 ,  76.91965 ],\n          [135.22322 , 101.00791 ,  76.91965 ],\n          [137.33821 , 103.37947 ,  77.44536 ],\n          ...,\n          [ 93.5134  ,  92.54019 ,  95.026794],\n          [ 94.      ,  94.      ,  96.      ],\n          [ 94.      ,  94.      ,  96.      ]],\n  \n         [[130.      ,  98.      ,  75.      ],\n          [131.38393 ,  99.38393 ,  75.      ],\n          [134.43303 , 101.45982 ,  76.45982 ],\n          ...,\n          [ 93.5134  ,  92.54019 ,  95.026794],\n          [ 94.      ,  94.      ,  96.      ],\n          [ 94.      ,  94.      ,  96.      ]]], dtype=float32),\n  0,\n  0,\n  0,\n  0,\n  0,\n  0,\n  0,\n  0,\n  0,\n  1,\n  0,\n  1,\n  0,\n  0,\n  0,\n  1,\n  0,\n  0,\n  0,\n  0,\n  0)]"
     },
     "execution_count": 424,
     "metadata": {},
     "output_type": "execute_result"
    }
   ],
   "source": [
    "list(ds.take(3).as_numpy_iterator())"
   ],
   "metadata": {
    "collapsed": false
   }
  },
  {
   "cell_type": "code",
   "execution_count": 328,
   "outputs": [
    {
     "data": {
      "text/plain": "['5_o_Clock_Shadow',\n 'Bald',\n 'Bangs',\n 'Black_Hair',\n 'Blond_Hair',\n 'Brown_Hair',\n 'Eyeglasses',\n 'Goatee',\n 'Gray_Hair',\n 'Male',\n 'Mustache',\n 'No_Beard',\n 'Sideburns',\n 'Smiling',\n 'Straight_Hair',\n 'Wavy_Hair',\n 'Wearing_Earrings',\n 'Wearing_Hat',\n 'Wearing_Lipstick',\n 'Wearing_Necklace',\n 'Wearing_Necktie']"
     },
     "execution_count": 328,
     "metadata": {},
     "output_type": "execute_result"
    }
   ],
   "source": [
    "selected_attributes"
   ],
   "metadata": {
    "collapsed": false
   }
  },
  {
   "cell_type": "code",
   "execution_count": 330,
   "outputs": [
    {
     "data": {
      "text/plain": "('5_o_Clock_Shadow',\n 'Bald',\n 'Bangs',\n 'Black_Hair',\n 'Blond_Hair',\n 'Brown_Hair',\n 'Eyeglasses',\n 'Goatee',\n 'Gray_Hair',\n 'Male',\n 'Mustache',\n 'No_Beard',\n 'Sideburns',\n 'Smiling',\n 'Straight_Hair',\n 'Wavy_Hair',\n 'Wearing_Earrings',\n 'Wearing_Hat',\n 'Wearing_Lipstick',\n 'Wearing_Necklace',\n 'Wearing_Necktie')"
     },
     "execution_count": 330,
     "metadata": {},
     "output_type": "execute_result"
    }
   ],
   "source": [
    "tuple([attr for attr in selected_attributes])"
   ],
   "metadata": {
    "collapsed": false
   }
  },
  {
   "cell_type": "code",
   "execution_count": null,
   "outputs": [],
   "source": [],
   "metadata": {
    "collapsed": false
   }
  }
 ],
 "metadata": {
  "kernelspec": {
   "display_name": "Python 3",
   "language": "python",
   "name": "python3"
  },
  "language_info": {
   "codemirror_mode": {
    "name": "ipython",
    "version": 2
   },
   "file_extension": ".py",
   "mimetype": "text/x-python",
   "name": "python",
   "nbconvert_exporter": "python",
   "pygments_lexer": "ipython2",
   "version": "2.7.6"
  }
 },
 "nbformat": 4,
 "nbformat_minor": 0
}
