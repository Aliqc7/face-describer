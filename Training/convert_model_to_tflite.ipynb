{
 "cells": [
  {
   "cell_type": "code",
   "execution_count": 112,
   "metadata": {
    "collapsed": true
   },
   "outputs": [],
   "source": [
    "import tensorflow as tf"
   ]
  },
  {
   "cell_type": "code",
   "execution_count": 113,
   "outputs": [],
   "source": [
    "attributes = [\"5_o_Clock_Shadow\", \"Bald\", \"Black_Hair\", \"Blond_Hair\", \"Brown_Hair\",\n",
    "              \"Eyeglasses\", \"Goatee\", \"Gray_Hair\", \"Male\", \"Mustache\", \"Smiling\", \"No_Beard\",\n",
    "              \"Wearing_Earrings\", \"Wearing_Hat\"]"
   ],
   "metadata": {
    "collapsed": false
   }
  },
  {
   "cell_type": "code",
   "execution_count": 114,
   "outputs": [
    {
     "name": "stderr",
     "output_type": "stream",
     "text": [
      "2024-01-05 13:15:43.545836: I tensorflow/core/common_runtime/executor.cc:1197] [/device:CPU:0] (DEBUG INFO) Executor start aborting (this does not indicate an error and you can ignore this message): INVALID_ARGUMENT: You must feed a value for placeholder tensor 'inputs' with dtype float and shape [?,1280]\n",
      "\t [[{{node inputs}}]]\n",
      "2024-01-05 13:15:44.772948: I tensorflow/core/common_runtime/executor.cc:1197] [/device:CPU:0] (DEBUG INFO) Executor start aborting (this does not indicate an error and you can ignore this message): INVALID_ARGUMENT: You must feed a value for placeholder tensor 'inputs' with dtype float and shape [?,1280]\n",
      "\t [[{{node inputs}}]]\n",
      "WARNING:absl:Found untraced functions such as _update_step_xla, restored_function_body, restored_function_body, restored_function_body, restored_function_body while saving (showing 5 of 335). These functions will not be directly callable after loading.\n"
     ]
    },
    {
     "name": "stdout",
     "output_type": "stream",
     "text": [
      "INFO:tensorflow:Assets written to: /tmp/tmpjseid9ui/assets\n"
     ]
    },
    {
     "name": "stderr",
     "output_type": "stream",
     "text": [
      "INFO:tensorflow:Assets written to: /tmp/tmpjseid9ui/assets\n",
      "2024-01-05 13:16:01.587180: W tensorflow/compiler/mlir/lite/python/tf_tfl_flatbuffer_helpers.cc:364] Ignored output_format.\n",
      "2024-01-05 13:16:01.587294: W tensorflow/compiler/mlir/lite/python/tf_tfl_flatbuffer_helpers.cc:367] Ignored drop_control_dependency.\n",
      "2024-01-05 13:16:01.587704: I tensorflow/cc/saved_model/reader.cc:45] Reading SavedModel from: /tmp/tmpjseid9ui\n",
      "2024-01-05 13:16:01.632919: I tensorflow/cc/saved_model/reader.cc:89] Reading meta graph with tags { serve }\n",
      "2024-01-05 13:16:01.632979: I tensorflow/cc/saved_model/reader.cc:130] Reading SavedModel debug info (if present) from: /tmp/tmpjseid9ui\n",
      "2024-01-05 13:16:01.775754: I tensorflow/cc/saved_model/loader.cc:231] Restoring SavedModel bundle.\n",
      "2024-01-05 13:16:02.489893: I tensorflow/cc/saved_model/loader.cc:215] Running initialization op on SavedModel bundle at path: /tmp/tmpjseid9ui\n",
      "2024-01-05 13:16:02.764472: I tensorflow/cc/saved_model/loader.cc:314] SavedModel load for tags { serve }; Status: success: OK. Took 1176791 microseconds.\n"
     ]
    }
   ],
   "source": [
    "saved_model_path = \"/home/ali/projects/face-describer/saved_model/my_model_tflite_compatible/\"\n",
    "model = tf.keras.models.load_model(saved_model_path)\n",
    "converter = tf.lite.TFLiteConverter.from_keras_model(model)\n",
    "tflite_model = converter.convert()\n",
    "with open('my_model.tflite', 'wb') as f:\n",
    "    f.write(tflite_model)"
   ],
   "metadata": {
    "collapsed": false
   }
  },
  {
   "cell_type": "code",
   "execution_count": 115,
   "outputs": [],
   "source": [
    "interpreter = tf.lite.Interpreter(model_path='my_model.tflite')\n",
    "interpreter.allocate_tensors()\n",
    "\n",
    "# Get input details\n",
    "input_details = interpreter.get_input_details()\n",
    "output_details = interpreter.get_output_details()\n",
    "# Load and preprocess image\n",
    "image_path = '/home/ali/projects/face-describer/download.jpeg'\n",
    "image = tf.keras.preprocessing.image.load_img(image_path, target_size=(input_details[0]['shape'][1], input_details[0]['shape'][2]))\n",
    "image_array = tf.keras.preprocessing.image.img_to_array(image)\n",
    "image_array = tf.expand_dims(image_array, 0)  # Add batch dimension\n",
    "image_array = image_array / 255.0  # Normalize to [0,1]\n",
    "\n",
    "# Resize input tensor if necessary\n",
    "interpreter.resize_tensor_input(input_details[0]['index'], (1, input_details[0]['shape'][1], input_details[0]['shape'][2], 3))\n",
    "\n",
    "interpreter.set_tensor(input_details[0]['index'], image_array)\n",
    "interpreter.invoke()\n",
    "\n"
   ],
   "metadata": {
    "collapsed": false
   }
  },
  {
   "cell_type": "code",
   "execution_count": 116,
   "outputs": [
    {
     "name": "stdout",
     "output_type": "stream",
     "text": [
      "Inference result: [array([[0.00010051]], dtype=float32), array([[6.0689113e-06]], dtype=float32), array([[5.9010704e-06]], dtype=float32), array([[0.98781663]], dtype=float32), array([[0.00253838]], dtype=float32), array([[0.9722426]], dtype=float32), array([[3.3731787e-05]], dtype=float32), array([[0.00426359]], dtype=float32), array([[0.00036029]], dtype=float32), array([[1.43698635e-05]], dtype=float32), array([[0.9999305]], dtype=float32), array([[0.04218395]], dtype=float32), array([[0.2303866]], dtype=float32), array([[0.0002588]], dtype=float32)]\n"
     ]
    }
   ],
   "source": [
    "sorted_output_details = sorted(output_details, key=lambda x: x['index'])\n",
    "\n",
    "output_data = [interpreter.get_tensor(sorted_output_details[i]['index']) for i in range(len(output_details))]\n",
    "print(\"Inference result:\", output_data)"
   ],
   "metadata": {
    "collapsed": false
   }
  },
  {
   "cell_type": "code",
   "execution_count": 117,
   "outputs": [
    {
     "name": "stdout",
     "output_type": "stream",
     "text": [
      "5_o_Clock_Shadow          False 0.00010050917\n",
      "Bald          False 6.0689113e-06\n",
      "Black_Hair          False 5.9010704e-06\n",
      "Blond_Hair          True 0.98781663\n",
      "Brown_Hair          False 0.0025383774\n",
      "Eyeglasses          True 0.9722426\n",
      "Goatee          False 3.3731787e-05\n",
      "Gray_Hair          False 0.0042635873\n",
      "Male          False 0.00036028773\n",
      "Mustache          False 1.43698635e-05\n",
      "Smiling          True 0.9999305\n",
      "No_Beard          False 0.042183954\n",
      "Wearing_Earrings          False 0.2303866\n",
      "Wearing_Hat          False 0.00025879798\n"
     ]
    }
   ],
   "source": [
    "for i in range (len(output_data)):\n",
    "    print (attributes[i],\"        \" ,  output_data[i][0][0] > 0.5, output_data[i][0][0])"
   ],
   "metadata": {
    "collapsed": false
   }
  },
  {
   "cell_type": "code",
   "execution_count": null,
   "outputs": [],
   "source": [],
   "metadata": {
    "collapsed": false
   }
  }
 ],
 "metadata": {
  "kernelspec": {
   "display_name": "Python 3",
   "language": "python",
   "name": "python3"
  },
  "language_info": {
   "codemirror_mode": {
    "name": "ipython",
    "version": 2
   },
   "file_extension": ".py",
   "mimetype": "text/x-python",
   "name": "python",
   "nbconvert_exporter": "python",
   "pygments_lexer": "ipython2",
   "version": "2.7.6"
  }
 },
 "nbformat": 4,
 "nbformat_minor": 0
}
